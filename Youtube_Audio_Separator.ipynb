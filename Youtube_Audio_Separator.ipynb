{
  "cells": [
    {
      "cell_type": "markdown",
      "metadata": {
        "colab_type": "text",
        "id": "view-in-github"
      },
      "source": [
        "<a href=\"https://colab.research.google.com/github/youbkis/YoutubeAudioSeparator/blob/main/Youtube_Audio_Separator.ipynb\" target=\"_parent\"><img src=\"https://colab.research.google.com/assets/colab-badge.svg\" alt=\"Open In Colab\"/></a>"
      ]
    },
    {
      "cell_type": "markdown",
      "metadata": {
        "id": "uLghRcAdqaph"
      },
      "source": [
        "# Separate Vocal and Instrument Tracks from Youtube Videos\n",
        "\n",
        "\n",
        "Based on [Hybrid Demucs](https://colab.research.google.com/drive/1dC9nVxk3V_VPjUADsnFu8EiT-xnU1tGH?usp=sharing) and [ytmp3-dl](https://github.com/poseidon-code/ytmp3-dl)\n"
      ]
    },
    {
      "cell_type": "markdown",
      "metadata": {
        "id": "PlHSvATG1Ss1"
      },
      "source": [
        "# Prerequisites\n",
        "### *You need to have [ffmpeg](https://www.hostinger.com/tutorials/how-to-install-ffmpeg) installed!*\n",
        "\n"
      ]
    },
    {
      "cell_type": "code",
      "execution_count": 1,
      "metadata": {
        "id": "79JbZGcAqX3p"
      },
      "outputs": [
        {
          "name": "stdout",
          "output_type": "stream",
          "text": [
            "Collecting yt-dlp\n",
            "  Downloading yt_dlp-2023.7.6-py2.py3-none-any.whl (3.0 MB)\n",
            "Collecting brotli; platform_python_implementation == \"CPython\"\n",
            "  Downloading Brotli-1.0.9-cp37-cp37m-win_amd64.whl (365 kB)\n",
            "Collecting mutagen\n",
            "  Downloading mutagen-1.47.0-py3-none-any.whl (194 kB)\n",
            "Collecting websockets\n",
            "  Downloading websockets-11.0.3-cp37-cp37m-win_amd64.whl (124 kB)\n",
            "Collecting pycryptodomex\n",
            "  Downloading pycryptodomex-3.18.0-cp35-abi3-win_amd64.whl (1.7 MB)\n",
            "Collecting certifi\n",
            "  Downloading certifi-2023.7.22-py3-none-any.whl (158 kB)\n",
            "Installing collected packages: brotli, mutagen, websockets, pycryptodomex, certifi, yt-dlp\n",
            "Successfully installed brotli-1.0.9 certifi-2023.7.22 mutagen-1.47.0 pycryptodomex-3.18.0 websockets-11.0.3 yt-dlp-2023.7.6\n"
          ]
        },
        {
          "name": "stderr",
          "output_type": "stream",
          "text": [
            "  WARNING: The scripts mid3cp.exe, mid3iconv.exe, mid3v2.exe, moggsplit.exe, mutagen-inspect.exe and mutagen-pony.exe are installed in 'C:\\Users\\youne\\AppData\\Local\\Packages\\PythonSoftwareFoundation.Python.3.7_qbz5n2kfra8p0\\LocalCache\\local-packages\\Python37\\Scripts' which is not on PATH.\n",
            "  Consider adding this directory to PATH or, if you prefer to suppress this warning, use --no-warn-script-location.\n",
            "  WARNING: The script yt-dlp.exe is installed in 'C:\\Users\\youne\\AppData\\Local\\Packages\\PythonSoftwareFoundation.Python.3.7_qbz5n2kfra8p0\\LocalCache\\local-packages\\Python37\\Scripts' which is not on PATH.\n",
            "  Consider adding this directory to PATH or, if you prefer to suppress this warning, use --no-warn-script-location.\n",
            "WARNING: You are using pip version 20.1.1; however, version 23.2.1 is available.\n",
            "You should consider upgrading via the 'C:\\Users\\youne\\AppData\\Local\\Microsoft\\WindowsApps\\PythonSoftwareFoundation.Python.3.7_qbz5n2kfra8p0\\python.exe -m pip install --upgrade pip' command.\n",
            "  % Total    % Received % Xferd  Average Speed   Time    Time     Time  Current\n",
            "                                 Dload  Upload   Total   Spent    Left  Speed\n",
            "\n",
            "  0     0    0     0    0     0      0      0 --:--:-- --:--:-- --:--:--     0\n",
            "100  7987  100  7987    0     0  19433      0 --:--:-- --:--:-- --:--:-- 19480\n"
          ]
        }
      ],
      "source": [
        "#@title 1. Run to Download Dependencies\n",
        "#!python3 -m pip install -U git+https://github.com/facebookresearch/demucs#egg=demucs\n",
        "!python3 -m pip install -U yt-dlp\n",
        "!curl -LJO https://raw.githubusercontent.com/poseidon-code/ytmp3-dl/main/ytmp3-dl.py\n",
        "!chmod +x ytmp3-dl.py\n"
      ]
    },
    {
      "cell_type": "code",
      "execution_count": 16,
      "metadata": {
        "cellView": "form",
        "id": "znCvBifRrO-b"
      },
      "outputs": [],
      "source": [
        "#@title 2. Run  to Configure Demucs Model\n",
        "# Customize the following options!\n",
        "model = \"htdemucs\"\n",
        "extensions = [\"mp3\", \"wav\", \"ogg\", \"flac\"]  # we will look for all those file types.\n",
        "two_stems = None   # only separate one stems from the rest, for instance\n",
        "# two_stems = \"vocals\"\n",
        "\n",
        "# Options for the separatedaudio audio.\n",
        "mp3 = True\n",
        "mp3_rate = 320\n",
        "float32 = False  # separatedaudio as float 32 wavs, unsused if 'mp3' is True.\n",
        "int24 = False    # separatedaudio as int24 wavs, unused if 'mp3' is True.\n",
        "# You cannot set both `float32 = True` and `int24 = True` !!"
      ]
    },
    {
      "cell_type": "code",
      "execution_count": 5,
      "metadata": {
        "cellView": "form",
        "id": "kMKN9BN4r37E"
      },
      "outputs": [],
      "source": [
        "#@title 3. Run to Import the download and separation Functions\n",
        "import io\n",
        "from pathlib import Path\n",
        "import select\n",
        "from shutil import rmtree,copy\n",
        "import subprocess as sp\n",
        "import sys\n",
        "import os\n",
        "from typing import Dict, Tuple, Optional, IO\n",
        "\n",
        "\n",
        "\n",
        "\n",
        "def find_files(in_path):\n",
        "    out = []\n",
        "    for file in Path(in_path).iterdir():\n",
        "        if file.suffix.lower().lstrip(\".\") in extensions:\n",
        "            out.append(file)\n",
        "    return out\n",
        "\n",
        "def copy_process_streams(process: sp.Popen):\n",
        "    def raw(stream: Optional[IO[bytes]]) -> IO[bytes]:\n",
        "        assert stream is not None\n",
        "        if isinstance(stream, io.BufferedIOBase):\n",
        "            stream = stream.raw\n",
        "        return stream\n",
        "\n",
        "    p_stdout, p_stderr = raw(process.stdout), raw(process.stderr)\n",
        "    stream_by_fd: Dict[int, Tuple[IO[bytes], io.StringIO, IO[str]]] = {\n",
        "        p_stdout.fileno(): (p_stdout, sys.stdout),\n",
        "        p_stderr.fileno(): (p_stderr, sys.stderr),\n",
        "    }\n",
        "    fds = list(stream_by_fd.keys())\n",
        "\n",
        "    while fds:\n",
        "        # `select` syscall will wait until one of the file descriptors has content.\n",
        "        ready, _, _ = select.select(fds, [], [])\n",
        "        for fd in ready:\n",
        "            p_stream, std = stream_by_fd[fd]\n",
        "            raw_buf = p_stream.read(2 ** 16)\n",
        "            if not raw_buf:\n",
        "                fds.remove(fd)\n",
        "                continue\n",
        "            buf = raw_buf.decode()\n",
        "            std.write(buf)\n",
        "            std.flush()\n",
        "\n",
        "def separate(inp, outp):\n",
        "    cmd = [\"python3\", \"-m\", \"demucs.separate\", \"-o\", str(outp), \"-n\", model]\n",
        "    if mp3:\n",
        "        cmd += [\"--mp3\", f\"--mp3-bitrate={mp3_rate}\"]\n",
        "    if float32:\n",
        "        cmd += [\"--float32\"]\n",
        "    if int24:\n",
        "        cmd += [\"--int24\"]\n",
        "    if two_stems is not None:\n",
        "        cmd += [f\"--two-stems={two_stems}\"]\n",
        "    files = [str(f) for f in find_files(inp)]\n",
        "    if not files:\n",
        "        print(f\"No valid audio files in {inp}\")\n",
        "        return\n",
        "    print(\"Going to separate the files:\")\n",
        "    print('\\n'.join(files))\n",
        "    print(\"With command: \", \" \".join(cmd))\n",
        "    p = sp.Popen(cmd + files, stdout=sp.PIPE, stderr=sp.PIPE)\n",
        "    copy_process_streams(p)\n",
        "    p.wait()\n",
        "    if p.returncode != 0:\n",
        "        print(\"Command failed, something went wrong.\")\n",
        "        return False\n",
        "    return True\n",
        "\n",
        "def dl_mp3(link):\n",
        "    clear_paths()\n",
        "    try:\n",
        "      cmd = f\"ytmp3-dl.py -d convertedmp3 {link}\"\n",
        "      !{cmd}\n",
        "      os.star\n",
        "    except Exception as e:\n",
        "      print(\"Error while downloading yt video\", e)\n",
        "      return None\n",
        "    if len(os.listdir(os.getcwd()+\"convertedmp3\")) < 1:\n",
        "       return None\n",
        "    return \"convertedmp3/\"+os.listdir(\"convertedmp3\")[0]\n",
        "\n",
        "def download_mp3(link):\n",
        "    mp3 = dl_mp3(link)\n",
        "    if(mp3 is None):\n",
        "      return\n",
        "    os.startfile(\"convertedmp3\")\n",
        "\n",
        "def clear_paths():\n",
        "    in_path = Path(os.getcwd()+'convertedmp3')\n",
        "\n",
        "    if in_path.exists():\n",
        "        rmtree(in_path)\n",
        "    in_path.mkdir()\n",
        "\n",
        "    \n",
        "\n",
        "def separate_from_link(link,keep_original_mp3=False):\n",
        "    out_path = Path('separatedaudio')\n",
        "    if out_path.exists():\n",
        "        rmtree(out_path)\n",
        "    out_path.mkdir()\n",
        "\n",
        "    out_path = Path('separatedaudio')\n",
        "    in_path = Path('convertedmp3')\n",
        "    clear_paths()\n",
        "    success = False\n",
        "    try:\n",
        "      print(f\"Downloading {link}\")\n",
        "      mp3_path = dl_mp3(link)\n",
        "    except Exception as e:\n",
        "      print(\"Halted download:\", e)\n",
        "\n",
        "    print(\"Download finished.\\nSeparating Tracks:\")\n",
        "    success = separate(in_path, out_path)\n",
        "    if(success):\n",
        "      print(\"Separation finished.\\nPacking separated tracks into zip file\")\n",
        "      if keep_original_mp3:\n",
        "        copy(mp3_path, \"separatedaudio\")\n",
        "      os.startfile(os.getcwd() + out_path)\n",
        "    else:\n",
        "      print(\"Separation failed\")\n",
        "\n",
        "\n",
        "\n"
      ]
    },
    {
      "cell_type": "markdown",
      "metadata": {
        "id": "PybTzLps1RfN"
      },
      "source": [
        "# Converters"
      ]
    },
    {
      "cell_type": "code",
      "execution_count": 3,
      "metadata": {
        "id": "DBl6eNJcfosO"
      },
      "outputs": [],
      "source": [
        "#@title Edit the youtube Link and run the cell\n",
        "LINK = \"https://www.youtube.com/watch?v=_XbMXAuEsDU\""
      ]
    },
    {
      "cell_type": "code",
      "execution_count": null,
      "metadata": {
        "id": "CjnUeFMUwwRj"
      },
      "outputs": [],
      "source": [
        "#@title Download separated Audio Data\n",
        "keep_original_mp3=True\n",
        "separate_from_link(LINK,keep_original_mp3)"
      ]
    },
    {
      "cell_type": "code",
      "execution_count": 8,
      "metadata": {
        "id": "ygxRbS-Lwx00"
      },
      "outputs": [],
      "source": [
        "#@title Download to the full audio file without separation\n",
        "download_mp3(LINK)"
      ]
    }
  ],
  "metadata": {
    "accelerator": "GPU",
    "colab": {
      "collapsed_sections": [
        "PlHSvATG1Ss1"
      ],
      "gpuType": "T4",
      "include_colab_link": true,
      "provenance": []
    },
    "kernelspec": {
      "display_name": "Python 3",
      "name": "python3"
    },
    "language_info": {
      "codemirror_mode": {
        "name": "ipython",
        "version": 3
      },
      "file_extension": ".py",
      "mimetype": "text/x-python",
      "name": "python",
      "nbconvert_exporter": "python",
      "pygments_lexer": "ipython3",
      "version": "3.10.5"
    }
  },
  "nbformat": 4,
  "nbformat_minor": 0
}
