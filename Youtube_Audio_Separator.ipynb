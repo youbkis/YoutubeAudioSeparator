{
  "nbformat": 4,
  "nbformat_minor": 0,
  "metadata": {
    "colab": {
      "provenance": [],
      "collapsed_sections": [
        "PlHSvATG1Ss1"
      ],
      "gpuType": "T4",
      "include_colab_link": true
    },
    "kernelspec": {
      "name": "python3",
      "display_name": "Python 3"
    },
    "language_info": {
      "name": "python"
    },
    "accelerator": "GPU"
  },
  "cells": [
    {
      "cell_type": "markdown",
      "metadata": {
        "id": "view-in-github",
        "colab_type": "text"
      },
      "source": [
        "<a href=\"https://colab.research.google.com/github/youbkis/YoutubeAudioSeparator/blob/main/Youtube_Audio_Separator.ipynb\" target=\"_parent\"><img src=\"https://colab.research.google.com/assets/colab-badge.svg\" alt=\"Open In Colab\"/></a>"
      ]
    },
    {
      "cell_type": "markdown",
      "metadata": {
        "id": "uLghRcAdqaph"
      },
      "source": [
        "# Separate Vocal and Instrument Tracks from Youtube Videos\n",
        "\n",
        "\n",
        "Based on [Hybrid Demucs](https://colab.research.google.com/drive/1dC9nVxk3V_VPjUADsnFu8EiT-xnU1tGH?usp=sharing) and [ytmp3-dl](https://github.com/poseidon-code/ytmp3-dl)\n"
      ]
    },
    {
      "cell_type": "markdown",
      "source": [
        "# Prerequisites"
      ],
      "metadata": {
        "id": "PlHSvATG1Ss1"
      }
    },
    {
      "cell_type": "code",
      "metadata": {
        "id": "79JbZGcAqX3p"
      },
      "source": [
        "#@title 1. Run to Download Dependencies\n",
        "%%capture\n",
        "!python3 -m pip install -U git+https://github.com/facebookresearch/demucs#egg=demucs\n",
        "!pip install -U yt-dlp\n",
        "!curl -LJO https://raw.githubusercontent.com/poseidon-code/ytmp3-dl/main/ytmp3-dl.py\n",
        "!chmod +x ytmp3-dl.py\n",
        "!sudo apt-get install ffmpeg"
      ],
      "execution_count": 8,
      "outputs": []
    },
    {
      "cell_type": "code",
      "metadata": {
        "id": "znCvBifRrO-b",
        "cellView": "form"
      },
      "source": [
        "#@title 2. Run  to Configure Demucs Model\n",
        "# Customize the following options!\n",
        "model = \"htdemucs\"\n",
        "extensions = [\"mp3\", \"wav\", \"ogg\", \"flac\"]  # we will look for all those file types.\n",
        "two_stems = None   # only separate one stems from the rest, for instance\n",
        "# two_stems = \"vocals\"\n",
        "\n",
        "# Options for the output audio.\n",
        "mp3 = True\n",
        "mp3_rate = 320\n",
        "float32 = False  # output as float 32 wavs, unsused if 'mp3' is True.\n",
        "int24 = False    # output as int24 wavs, unused if 'mp3' is True.\n",
        "# You cannot set both `float32 = True` and `int24 = True` !!"
      ],
      "execution_count": 9,
      "outputs": []
    },
    {
      "cell_type": "code",
      "metadata": {
        "id": "kMKN9BN4r37E",
        "cellView": "form"
      },
      "source": [
        "#@title 3. Run to Import the download and separation Functions\n",
        "import io\n",
        "from pathlib import Path\n",
        "import select\n",
        "from shutil import rmtree,copy\n",
        "import subprocess as sp\n",
        "import sys\n",
        "import os\n",
        "from typing import Dict, Tuple, Optional, IO\n",
        "\n",
        "from google.colab import files\n",
        "\n",
        "def find_files(in_path):\n",
        "    out = []\n",
        "    for file in Path(in_path).iterdir():\n",
        "        if file.suffix.lower().lstrip(\".\") in extensions:\n",
        "            out.append(file)\n",
        "    return out\n",
        "\n",
        "def copy_process_streams(process: sp.Popen):\n",
        "    def raw(stream: Optional[IO[bytes]]) -> IO[bytes]:\n",
        "        assert stream is not None\n",
        "        if isinstance(stream, io.BufferedIOBase):\n",
        "            stream = stream.raw\n",
        "        return stream\n",
        "\n",
        "    p_stdout, p_stderr = raw(process.stdout), raw(process.stderr)\n",
        "    stream_by_fd: Dict[int, Tuple[IO[bytes], io.StringIO, IO[str]]] = {\n",
        "        p_stdout.fileno(): (p_stdout, sys.stdout),\n",
        "        p_stderr.fileno(): (p_stderr, sys.stderr),\n",
        "    }\n",
        "    fds = list(stream_by_fd.keys())\n",
        "\n",
        "    while fds:\n",
        "        # `select` syscall will wait until one of the file descriptors has content.\n",
        "        ready, _, _ = select.select(fds, [], [])\n",
        "        for fd in ready:\n",
        "            p_stream, std = stream_by_fd[fd]\n",
        "            raw_buf = p_stream.read(2 ** 16)\n",
        "            if not raw_buf:\n",
        "                fds.remove(fd)\n",
        "                continue\n",
        "            buf = raw_buf.decode()\n",
        "            std.write(buf)\n",
        "            std.flush()\n",
        "\n",
        "def separate(inp, outp):\n",
        "    cmd = [\"python3\", \"-m\", \"demucs.separate\", \"-o\", str(outp), \"-n\", model]\n",
        "    if mp3:\n",
        "        cmd += [\"--mp3\", f\"--mp3-bitrate={mp3_rate}\"]\n",
        "    if float32:\n",
        "        cmd += [\"--float32\"]\n",
        "    if int24:\n",
        "        cmd += [\"--int24\"]\n",
        "    if two_stems is not None:\n",
        "        cmd += [f\"--two-stems={two_stems}\"]\n",
        "    files = [str(f) for f in find_files(inp)]\n",
        "    if not files:\n",
        "        print(f\"No valid audio files in {in_path}\")\n",
        "        return\n",
        "    print(\"Going to separate the files:\")\n",
        "    print('\\n'.join(files))\n",
        "    print(\"With command: \", \" \".join(cmd))\n",
        "    p = sp.Popen(cmd + files, stdout=sp.PIPE, stderr=sp.PIPE)\n",
        "    copy_process_streams(p)\n",
        "    p.wait()\n",
        "    if p.returncode != 0:\n",
        "        print(\"Command failed, something went wrong.\")\n",
        "        return False\n",
        "    return True\n",
        "\n",
        "\n",
        "def from_upload():\n",
        "    out_path = Path('separated')\n",
        "    in_path = Path('tmp_in')\n",
        "\n",
        "    if in_path.exists():\n",
        "        rmtree(in_path)\n",
        "    in_path.mkdir()\n",
        "\n",
        "    if out_path.exists():\n",
        "        rmtree(out_path)\n",
        "    out_path.mkdir()\n",
        "\n",
        "    uploaded = files.upload()\n",
        "    for name, content in uploaded.items():\n",
        "        (in_path / name).write_bytes(content)\n",
        "    separate(in_path, out_path)\n",
        "\n",
        "def dl_mp3(link):\n",
        "    clear_paths()\n",
        "    try:\n",
        "      cmd = f\"./ytmp3-dl.py -d tmp_in {link}\"\n",
        "      !{cmd}\n",
        "    except Exception as e:\n",
        "      print(\"Error while downloading yt video\", e)\n",
        "      return None\n",
        "    return \"tmp_in/\"+os.listdir(\"tmp_in\")[0]\n",
        "\n",
        "def download_mp3(link):\n",
        "    mp3 = dl_mp3(link)\n",
        "    if(mp3 is None):\n",
        "      return\n",
        "    files.download(mp3)\n",
        "\n",
        "def clear_paths():\n",
        "    out_path = Path('output')\n",
        "    in_path = Path('tmp_in')\n",
        "\n",
        "    if in_path.exists():\n",
        "        rmtree(in_path)\n",
        "    in_path.mkdir()\n",
        "\n",
        "    if out_path.exists():\n",
        "        rmtree(out_path)\n",
        "    out_path.mkdir()\n",
        "\n",
        "def separate_from_link(link,keep_original_mp3=False):\n",
        "    out_path = Path('output')\n",
        "    in_path = Path('tmp_in')\n",
        "    clear_paths()\n",
        "    success = False\n",
        "    try:\n",
        "      print(f\"Downloading {link}\")\n",
        "      mp3_path = dl_mp3(link)\n",
        "    except Exception as e:\n",
        "      print(\"Halted download:\", e)\n",
        "\n",
        "    print(\"Download finished.\\nSeparating Tracks:\")\n",
        "    success = separate(in_path, out_path)\n",
        "    if(success):\n",
        "      print(\"Separation finished.\\nPacking separated tracks into zip file\")\n",
        "      if keep_original_mp3:\n",
        "        copy(mp3_path, \"output\")\n",
        "\n",
        "      !zip -r output.zip output\n",
        "      files.download('./output.zip')\n",
        "    else:\n",
        "      print(\"Separation failed\")\n",
        "\n",
        "\n",
        "\n"
      ],
      "execution_count": 10,
      "outputs": []
    },
    {
      "cell_type": "markdown",
      "source": [
        "# Converters"
      ],
      "metadata": {
        "id": "PybTzLps1RfN"
      }
    },
    {
      "cell_type": "code",
      "source": [
        "#@title Edit the youtube Link and run the cell\n",
        "LINK = \"https://www.youtube.com/watch?v=_XbMXAuEsDU\""
      ],
      "metadata": {
        "id": "DBl6eNJcfosO"
      },
      "execution_count": 5,
      "outputs": []
    },
    {
      "cell_type": "code",
      "source": [
        "#@title Download separated Audio Data\n",
        "keep_original_mp3=True\n",
        "separate_from_link(LINK,keep_original_mp3)"
      ],
      "metadata": {
        "id": "CjnUeFMUwwRj"
      },
      "execution_count": null,
      "outputs": []
    },
    {
      "cell_type": "code",
      "source": [
        "#@title Download to the full audio file without separation\n",
        "download_mp3(LINK)"
      ],
      "metadata": {
        "id": "ygxRbS-Lwx00",
        "colab": {
          "base_uri": "https://localhost:8080/",
          "height": 267
        },
        "outputId": "91b6e3ab-7713-4ac4-a531-0fa2e4e9d06f"
      },
      "execution_count": 11,
      "outputs": [
        {
          "output_type": "stream",
          "name": "stdout",
          "text": [
            "\u001b[H\u001b[2J\u001b[91myt\u001b[93mmp3-dl \u001b[92mv3.0 \u001b[96m~poseidon-code\u001b[0m\n",
            "\u001b[91m|\u001b[0m URLs                       : 1\n",
            "\u001b[91m|\u001b[0m Using ffmpeg at            : /usr/bin/ffmpeg\n",
            "\u001b[91m|\u001b[0m Download Directory         : tmp_in\n",
            "\u001b[91m|\u001b[0m Concurrent Download Limit  : 2\n",
            "\n",
            "\u001b[93m[downloading]\u001b[0m\t Гаухартас 'Қазағым ай' Kazakh Turkic Turanian Song\n",
            "\u001b[H\u001b[2J\u001b[91myt\u001b[93mmp3-dl \u001b[92mv3.0 \u001b[96m~poseidon-code\u001b[0m\n",
            "\u001b[91m|\u001b[0m URLs                       : 1\n",
            "\u001b[91m|\u001b[0m Using ffmpeg at            : /usr/bin/ffmpeg\n",
            "\u001b[91m|\u001b[0m Download Directory         : tmp_in\n",
            "\u001b[91m|\u001b[0m Concurrent Download Limit  : 2\n",
            "\n",
            "\u001b[92m[finished]\u001b[0m\t Гаухартас 'Қазағым ай' Kazakh Turkic Turanian Song\n"
          ]
        },
        {
          "output_type": "display_data",
          "data": {
            "text/plain": [
              "<IPython.core.display.Javascript object>"
            ],
            "application/javascript": [
              "\n",
              "    async function download(id, filename, size) {\n",
              "      if (!google.colab.kernel.accessAllowed) {\n",
              "        return;\n",
              "      }\n",
              "      const div = document.createElement('div');\n",
              "      const label = document.createElement('label');\n",
              "      label.textContent = `Downloading \"${filename}\": `;\n",
              "      div.appendChild(label);\n",
              "      const progress = document.createElement('progress');\n",
              "      progress.max = size;\n",
              "      div.appendChild(progress);\n",
              "      document.body.appendChild(div);\n",
              "\n",
              "      const buffers = [];\n",
              "      let downloaded = 0;\n",
              "\n",
              "      const channel = await google.colab.kernel.comms.open(id);\n",
              "      // Send a message to notify the kernel that we're ready.\n",
              "      channel.send({})\n",
              "\n",
              "      for await (const message of channel.messages) {\n",
              "        // Send a message to notify the kernel that we're ready.\n",
              "        channel.send({})\n",
              "        if (message.buffers) {\n",
              "          for (const buffer of message.buffers) {\n",
              "            buffers.push(buffer);\n",
              "            downloaded += buffer.byteLength;\n",
              "            progress.value = downloaded;\n",
              "          }\n",
              "        }\n",
              "      }\n",
              "      const blob = new Blob(buffers, {type: 'application/binary'});\n",
              "      const a = document.createElement('a');\n",
              "      a.href = window.URL.createObjectURL(blob);\n",
              "      a.download = filename;\n",
              "      div.appendChild(a);\n",
              "      a.click();\n",
              "      div.remove();\n",
              "    }\n",
              "  "
            ]
          },
          "metadata": {}
        },
        {
          "output_type": "display_data",
          "data": {
            "text/plain": [
              "<IPython.core.display.Javascript object>"
            ],
            "application/javascript": [
              "download(\"download_8f7cfc47-2ef9-43f2-a138-75101ce3cfc7\", \"\\u0413\\u0430\\u0443\\u0445\\u0430\\u0440\\u0442\\u0430\\u0441 '\\u049a\\u0430\\u0437\\u0430\\u0493\\u044b\\u043c \\u0430\\u0439' Kazakh Turkic Turanian Song.mp3\", 10672365)"
            ]
          },
          "metadata": {}
        }
      ]
    }
  ]
}