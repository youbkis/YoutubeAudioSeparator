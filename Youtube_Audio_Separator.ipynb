{
  "cells": [
    {
      "cell_type": "markdown",
      "metadata": {
        "colab_type": "text",
        "id": "view-in-github"
      },
      "source": [
        "<a href=\"https://colab.research.google.com/github/youbkis/YoutubeAudioSeparator/blob/main/Youtube_Audio_Separator.ipynb\" target=\"_parent\"><img src=\"https://colab.research.google.com/assets/colab-badge.svg\" alt=\"Open In Colab\"/></a>"
      ]
    },
    {
      "cell_type": "markdown",
      "metadata": {
        "id": "uLghRcAdqaph"
      },
      "source": [
        "# Separate Vocal and Instrument Tracks from Youtube Videos\n",
        "\n",
        "\n",
        "Based on [Hybrid Demucs](https://colab.research.google.com/drive/1dC9nVxk3V_VPjUADsnFu8EiT-xnU1tGH?usp=sharing) and [ytmp3-dl](https://github.com/poseidon-code/ytmp3-dl)\n"
      ]
    },
    {
      "cell_type": "markdown",
      "metadata": {
        "id": "PlHSvATG1Ss1"
      },
      "source": [
        "# Prerequisites\n",
        "\n",
        "> Run these Cells in order to install dependencies and configure the AI model"
      ]
    },
    {
      "cell_type": "code",
      "execution_count": null,
      "metadata": {
        "cellView": "form",
        "id": "znCvBifRrO-b"
      },
      "outputs": [],
      "source": [
        "!python3 -m pip install -U git+https://github.com/facebookresearch/demucs#egg=demucs\n",
        "!python -m pip install -U yt-dlp"
      ]
    },
    {
      "cell_type": "code",
      "execution_count": null,
      "metadata": {},
      "outputs": [],
      "source": [
        "# Customize the following options!\n",
        "model = \"htdemucs\"\n",
        "extensions = [\"mp3\", \"wav\", \"ogg\", \"flac\"]  # we will look for all those file types.\n",
        "two_stems = None   # only separate one stems from the rest, for instance\n",
        "# two_stems = \"vocals\"\n",
        "\n",
        "# Options for the separatedaudio audio.\n",
        "mp3 = True\n",
        "mp3_rate = 320\n",
        "float32 = False  # separatedaudio as float 32 wavs, unsused if 'mp3' is True.\n",
        "int24 = False    # separatedaudio as int24 wavs, unused if 'mp3' is True.\n",
        "# You cannot set both `float32 = True` and `int24 = True` !!"
      ]
    },
    {
      "cell_type": "code",
      "execution_count": null,
      "metadata": {
        "cellView": "form",
        "id": "kMKN9BN4r37E"
      },
      "outputs": [],
      "source": [
        "import io\n",
        "from pathlib import Path\n",
        "import select\n",
        "from shutil import rmtree,copy\n",
        "import subprocess as sp\n",
        "import sys\n",
        "import os\n",
        "from typing import Dict, Tuple, Optional, IO\n",
        "import os\n",
        "import platform\n",
        "import shutil\n",
        "import sys\n",
        "from pathlib import Path\n",
        "from typing import List, Tuple\n",
        "import yt_dlp\n",
        "\n",
        "\n",
        "# color codes\n",
        "class color:\n",
        "    ERROR = '\\033[91m'\n",
        "    ENDC = '\\033[0m'\n",
        "\n",
        "\n",
        "''' Set ffmpeg binary location (-f, --ffmpeg) '''\n",
        "def get_ffmpeg_path():\n",
        "    if shutil.which('ffmpeg') != None:\n",
        "        return shutil.which('ffmpeg')\n",
        "    \n",
        "    # else if, use the ffmpeg binaries present with this project\n",
        "    elif os.path.exists(f'{os.path.abspath(os.getcwd())}/ffmpeg'):\n",
        "        if platform.system() == 'Windows':\n",
        "            return f'{os.path.abspath(os.getcwd())}/ffmpeg/windows/ffmpeg.exe'\n",
        "        elif platform.system() == 'Darwin':\n",
        "            return f'{os.path.abspath(os.getcwd())}/ffmpeg/darwin/ffmpeg'\n",
        "        elif platform.system() == 'Linux':\n",
        "            return f'{os.path.abspath(os.getcwd())}/ffmpeg/linux/ffmpeg'\n",
        "\n",
        "    # else, if using \"ytmp3-dl-base\" release version which does not contains ffmpeg binaries,\n",
        "    # neither a ffmpeg binary location path is passed nor ffmpeg is installed\n",
        "    else:\n",
        "        print(f\"{color.ERROR}ffmpeg NOT FOUND.{color.ENDC}\")\n",
        "        exit(0)\n",
        "\n",
        "''' Downloading mp3 for every YouTube video URL passed during execution '''\n",
        "def download(url,path):\n",
        "    with yt_dlp.YoutubeDL(yt_dlp_options) as mp3:\n",
        "        mp3.download([url])\n",
        "\n",
        "\n",
        "status: List[str] = []\n",
        "cli_options: List[Tuple[str, str]]\n",
        "URLS: List[str]\n",
        "\n",
        "yt_dlp_options = {\n",
        "        # PERMANENT options\n",
        "        'quiet': True,\n",
        "        'format': 'bestaudio/best',\n",
        "        'keepvideo': False,\n",
        "        'postprocessors': [{\n",
        "            'key': 'FFmpegExtractAudio',\n",
        "            'preferredcodec': 'mp3',\n",
        "            'preferredquality': '320'\n",
        "        }],\n",
        "'ffmpeg_location' : get_ffmpeg_path(),\n",
        "        'outtmpl':'convertedmp3/%(title)s.webm',\n",
        "        # OPTIONAL options\n",
        "        'noplaylist': True,\n",
        "        'noprogress': True,\n",
        "}\n",
        "\n",
        "def find_files(in_path):\n",
        "    out = []\n",
        "    for file in Path(in_path).iterdir():\n",
        "        if file.suffix.lower().lstrip(\".\") in extensions:\n",
        "            out.append(file)\n",
        "    return out\n",
        "\n",
        "def copy_process_streams(process: sp.Popen):\n",
        "    def raw(stream: Optional[IO[bytes]]) -> IO[bytes]:\n",
        "        assert stream is not None\n",
        "        if isinstance(stream, io.BufferedIOBase):\n",
        "            stream = stream.raw\n",
        "        return stream\n",
        "\n",
        "    p_stdout, p_stderr = raw(process.stdout), raw(process.stderr)\n",
        "    stream_by_fd: Dict[int, Tuple[IO[bytes], io.StringIO, IO[str]]] = {\n",
        "        p_stdout.fileno(): (p_stdout, sys.stdout),\n",
        "        p_stderr.fileno(): (p_stderr, sys.stderr),\n",
        "    }\n",
        "    fds = list(stream_by_fd.keys())\n",
        "\n",
        "    while fds:\n",
        "        # `select` syscall will wait until one of the file descriptors has content.\n",
        "        ready, _, _ = select.select(fds, [], [])\n",
        "        for fd in ready:\n",
        "            p_stream, std = stream_by_fd[fd]\n",
        "            raw_buf = p_stream.read(2 ** 16)\n",
        "            if not raw_buf:\n",
        "                fds.remove(fd)\n",
        "                continue\n",
        "            buf = raw_buf.decode()\n",
        "            std.write(buf)\n",
        "            std.flush()\n",
        "\n",
        "def separate(inp, outp):\n",
        "    cmd = [\"python3\", \"-m\", \"demucs.separate\", \"-o\", str(outp), \"-n\", model]\n",
        "    if mp3:\n",
        "        cmd += [\"--mp3\", f\"--mp3-bitrate={mp3_rate}\"]\n",
        "    if float32:\n",
        "        cmd += [\"--float32\"]\n",
        "    if int24:\n",
        "        cmd += [\"--int24\"]\n",
        "    if two_stems is not None:\n",
        "        cmd += [f\"--two-stems={two_stems}\"]\n",
        "    files = [str(f) for f in find_files(inp)]\n",
        "    if not files:\n",
        "        print(f\"No valid audio files in {inp}\")\n",
        "        return\n",
        "    print(\"Going to separate the files:\")\n",
        "    print('\\n'.join(files))\n",
        "    print(\"With command: \", \" \".join(cmd))\n",
        "    p = sp.Popen(cmd + files, stdout=sp.PIPE, stderr=sp.PIPE)\n",
        "    copy_process_streams(p)\n",
        "    p.wait()\n",
        "    if p.returncode != 0:\n",
        "        print(\"Command failed, something went wrong.\")\n",
        "        return False\n",
        "    return True\n",
        "\n",
        "def dl_mp3(link):\n",
        "    clear_paths()\n",
        "    try:\n",
        "      download(link,\"convertedmp3\")\n",
        "      \n",
        "    except Exception as e:\n",
        "      print(\"Error while downloading yt video\", e)\n",
        "      return None\n",
        "    if len(os.listdir(os.getcwd()+\"convertedmp3\")) < 1:\n",
        "       return None\n",
        "    print(\"MP3 download successful\")\n",
        "    return \"convertedmp3/\"+os.listdir(\"convertedmp3\")[0]\n",
        "\n",
        "def download_mp3(link):\n",
        "    mp3 = dl_mp3(link)\n",
        "    if(mp3 is None):\n",
        "      return\n",
        "    os.startfile(\"convertedmp3\")\n",
        "\n",
        "def clear_paths():\n",
        "    in_path = Path(os.getcwd()+'convertedmp3')\n",
        "\n",
        "    if in_path.exists():\n",
        "        rmtree(in_path)\n",
        "    in_path.mkdir()\n",
        "   \n",
        "\n",
        "def separate_from_link(link,keep_original_mp3=False):\n",
        "    out_path = Path('separatedaudio')\n",
        "    if out_path.exists():\n",
        "        rmtree(out_path)\n",
        "    out_path.mkdir()\n",
        "\n",
        "    out_path = Path('separatedaudio')\n",
        "    in_path = Path('convertedmp3')\n",
        "    clear_paths()\n",
        "    success = False\n",
        "    try:\n",
        "      print(f\"Downloading {link}\")\n",
        "      mp3_path = dl_mp3(link)\n",
        "    except Exception as e:\n",
        "      print(\"Halted download:\", e)\n",
        "\n",
        "    print(\"Download finished.\\nSeparating Tracks:\")\n",
        "    success = separate(in_path, out_path)\n",
        "    if(success):\n",
        "      print(\"Separation finished.\\nPacking separated tracks into zip file\")\n",
        "      if keep_original_mp3:\n",
        "        copy(mp3_path, \"separatedaudio\")\n",
        "      os.startfile(os.getcwd() + out_path)\n",
        "    else:\n",
        "      print(\"Separation failed\")\n",
        "\n",
        "\n",
        "\n"
      ]
    },
    {
      "cell_type": "markdown",
      "metadata": {
        "id": "PybTzLps1RfN"
      },
      "source": [
        "# Converters"
      ]
    },
    {
      "cell_type": "code",
      "execution_count": null,
      "metadata": {
        "id": "DBl6eNJcfosO"
      },
      "outputs": [],
      "source": [
        "#@title Edit the youtube Link and run the cell\n",
        "LINK = \"https://www.youtube.com/watch?v=IL1vCQVZQMU\""
      ]
    },
    {
      "cell_type": "code",
      "execution_count": null,
      "metadata": {
        "id": "CjnUeFMUwwRj"
      },
      "outputs": [],
      "source": [
        "#@title Download separated Audio Data\n",
        "keep_original_mp3=True\n",
        "separate_from_link(LINK,keep_original_mp3)"
      ]
    },
    {
      "cell_type": "code",
      "execution_count": null,
      "metadata": {
        "id": "ygxRbS-Lwx00"
      },
      "outputs": [],
      "source": [
        "#@title Download to the full audio file without separation\n",
        "download_mp3(LINK)"
      ]
    }
  ],
  "metadata": {
    "accelerator": "GPU",
    "colab": {
      "collapsed_sections": [
        "PlHSvATG1Ss1"
      ],
      "gpuType": "T4",
      "include_colab_link": true,
      "provenance": []
    },
    "kernelspec": {
      "display_name": "Python 3",
      "name": "python3"
    },
    "language_info": {
      "codemirror_mode": {
        "name": "ipython",
        "version": 3
      },
      "file_extension": ".py",
      "mimetype": "text/x-python",
      "name": "python",
      "nbconvert_exporter": "python",
      "pygments_lexer": "ipython3",
      "version": "3.10.5"
    }
  },
  "nbformat": 4,
  "nbformat_minor": 0
}
